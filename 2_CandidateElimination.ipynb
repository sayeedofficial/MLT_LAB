{
 "cells": [
  {
   "cell_type": "code",
   "execution_count": 9,
   "id": "d97f3ea9",
   "metadata": {},
   "outputs": [
    {
     "name": "stdout",
     "output_type": "stream",
     "text": [
      "Initialisation\n",
      "1  Hypothesis\n",
      "['sunny' 'warm' 'normal' 'strong' 'warm' 'same']\n",
      "[['?', '?', '?', '?', '?', '?'], ['?', '?', '?', '?', '?', '?'], ['?', '?', '?', '?', '?', '?'], ['?', '?', '?', '?', '?', '?'], ['?', '?', '?', '?', '?', '?'], ['?', '?', '?', '?', '?', '?']]\n",
      "2  Hypothesis\n",
      "['sunny' 'warm' '?' 'strong' 'warm' 'same']\n",
      "[['?', '?', '?', '?', '?', '?'], ['?', '?', '?', '?', '?', '?'], ['?', '?', '?', '?', '?', '?'], ['?', '?', '?', '?', '?', '?'], ['?', '?', '?', '?', '?', '?'], ['?', '?', '?', '?', '?', '?']]\n",
      "3  Hypothesis\n",
      "['sunny' 'warm' '?' 'strong' 'warm' 'same']\n",
      "[['sunny', '?', '?', '?', '?', '?'], ['?', 'warm', '?', '?', '?', '?'], ['?', '?', '?', '?', '?', '?'], ['?', '?', '?', '?', '?', '?'], ['?', '?', '?', '?', '?', '?'], ['?', '?', '?', '?', '?', 'same']]\n",
      "4  Hypothesis\n",
      "['sunny' 'warm' '?' 'strong' '?' '?']\n",
      "[['sunny', '?', '?', '?', '?', '?'], ['?', 'warm', '?', '?', '?', '?'], ['?', '?', '?', '?', '?', '?'], ['?', '?', '?', '?', '?', '?'], ['?', '?', '?', '?', '?', '?'], ['?', '?', '?', '?', '?', '?']]\n",
      "Final Hypothesis\n",
      "['sunny' 'warm' '?' 'strong' '?' '?']\n",
      "['sunny', '?', '?', '?', '?', '?'] ['?', 'warm', '?', '?', '?', '?']\n"
     ]
    }
   ],
   "source": [
    "import numpy as np\n",
    "import pandas as pd\n",
    "\n",
    "data = pd.read_csv(\"weather.csv\")\n",
    "concepts = np.array(data.iloc[:,0:-1])\n",
    "target = np.array(data.iloc[:,-1])\n",
    "\n",
    "def learn(concepts,target):\n",
    "    print(\"Initialisation\")\n",
    "    spec = concepts[0].copy()\n",
    "    gen = [['?' for i in range(len(spec))] for i in range(len(spec))]\n",
    "    \n",
    "    for i,h in enumerate(concepts):\n",
    "        if target[i]==\"yes\":\n",
    "            for j in range(len(spec)):\n",
    "                if h[j]!=spec[j]:\n",
    "                    spec[j]='?'\n",
    "                    gen[j][j]='?'\n",
    "        \n",
    "        if target[i]==\"no\":\n",
    "            for j in range(len(spec)):\n",
    "                if h[j]!=spec[j]:\n",
    "                    gen[j][j] = spec[j]\n",
    "                else:\n",
    "                    gen[j][j] = '?'\n",
    "        print(i+1,\" Hypothesis\")\n",
    "        print(spec)\n",
    "        print(gen)\n",
    "    return spec,gen;\n",
    "        \n",
    "\n",
    "fs,fg = learn(concepts,target)\n",
    "print(\"Final Hypothesis\")\n",
    "print(fs)\n",
    "print(fg[0],fg[1])"
   ]
  },
  {
   "cell_type": "code",
   "execution_count": null,
   "id": "d7ef4cf9",
   "metadata": {},
   "outputs": [],
   "source": []
  }
 ],
 "metadata": {
  "kernelspec": {
   "display_name": "Python 3 (ipykernel)",
   "language": "python",
   "name": "python3"
  },
  "language_info": {
   "codemirror_mode": {
    "name": "ipython",
    "version": 3
   },
   "file_extension": ".py",
   "mimetype": "text/x-python",
   "name": "python",
   "nbconvert_exporter": "python",
   "pygments_lexer": "ipython3",
   "version": "3.9.7"
  }
 },
 "nbformat": 4,
 "nbformat_minor": 5
}
