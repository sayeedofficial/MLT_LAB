{
 "cells": [
  {
   "cell_type": "code",
   "execution_count": 5,
   "id": "c6e1f9a1",
   "metadata": {},
   "outputs": [],
   "source": [
    "import pandas as pd\n",
    "from sklearn.metrics import accuracy_score,confusion_matrix\n",
    "from sklearn.neighbors import KNeighborsClassifier\n",
    "from sklearn.preprocessing import StandardScaler\n",
    "from sklearn.model_selection import train_test_split\n",
    "from sklearn.datasets import load_iris"
   ]
  },
  {
   "cell_type": "code",
   "execution_count": 7,
   "id": "69307d44",
   "metadata": {},
   "outputs": [],
   "source": [
    "iris = load_iris()\n",
    "values = iris.data\n",
    "target = iris.target"
   ]
  },
  {
   "cell_type": "code",
   "execution_count": 17,
   "id": "96ad3bbc",
   "metadata": {},
   "outputs": [
    {
     "name": "stdout",
     "output_type": "stream",
     "text": [
      "0.9777777777777777\n",
      "0 0 Correct\n",
      "1 1 Correct\n",
      "1 1 Correct\n",
      "0 0 Correct\n",
      "2 2 Correct\n",
      "1 1 Correct\n",
      "2 2 Correct\n",
      "0 0 Correct\n",
      "0 0 Correct\n",
      "2 2 Correct\n",
      "1 1 Correct\n",
      "0 0 Correct\n",
      "2 2 Correct\n",
      "1 1 Correct\n",
      "1 1 Correct\n",
      "0 0 Correct\n",
      "1 1 Correct\n",
      "1 1 Correct\n",
      "0 0 Correct\n",
      "0 0 Correct\n",
      "1 1 Correct\n",
      "1 1 Correct\n",
      "1 1 Correct\n",
      "0 0 Correct\n",
      "2 2 Correct\n",
      "1 1 Correct\n",
      "0 0 Correct\n",
      "0 0 Correct\n",
      "1 1 Correct\n",
      "2 2 Correct\n",
      "1 1 Correct\n",
      "2 2 Correct\n",
      "1 1 Correct\n",
      "2 2 Correct\n",
      "2 2 Correct\n",
      "0 0 Correct\n",
      "1 1 Correct\n",
      "0 0 Correct\n",
      "1 1 Correct\n",
      "2 2 Correct\n",
      "2 2 Correct\n",
      "0 0 Correct\n",
      "1 2 Incorrect\n",
      "2 2 Correct\n",
      "1 1 Correct\n"
     ]
    }
   ],
   "source": [
    "ss = StandardScaler()\n",
    "values = ss.fit_transform(values)\n",
    "\n",
    "values_train,values_test,target_train,target_test = train_test_split(values,target,test_size=0.3,random_state = 1)\n",
    "\n",
    "knn = KNeighborsClassifier(n_neighbors = 3)\n",
    "knn.fit(values_train,target_train)\n",
    "y_pred = knn.predict(values_test)\n",
    "\n",
    "print(accuracy_score(y_pred,target_test))\n",
    "\n",
    "for i in range(len(values_test)):\n",
    "    print(y_pred[i],target_test[i],end=\" \")\n",
    "    if y_pred[i]!=target_test[i]:\n",
    "        print(\"Incorrect\")\n",
    "    else:\n",
    "        print(\"Correct\")\n"
   ]
  },
  {
   "cell_type": "code",
   "execution_count": null,
   "id": "356d5900",
   "metadata": {},
   "outputs": [],
   "source": []
  }
 ],
 "metadata": {
  "kernelspec": {
   "display_name": "Python 3 (ipykernel)",
   "language": "python",
   "name": "python3"
  },
  "language_info": {
   "codemirror_mode": {
    "name": "ipython",
    "version": 3
   },
   "file_extension": ".py",
   "mimetype": "text/x-python",
   "name": "python",
   "nbconvert_exporter": "python",
   "pygments_lexer": "ipython3",
   "version": "3.9.7"
  }
 },
 "nbformat": 4,
 "nbformat_minor": 5
}
