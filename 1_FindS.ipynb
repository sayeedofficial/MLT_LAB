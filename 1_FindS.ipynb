{
 "cells": [
  {
   "cell_type": "code",
   "execution_count": 11,
   "id": "790de262",
   "metadata": {},
   "outputs": [
    {
     "name": "stdout",
     "output_type": "stream",
     "text": [
      "     sky  temp humidity    wind water forecast target\n",
      "0  sunny  warm   normal  strong  warm     same    yes\n",
      "1  sunny  warm     high  strong  warm     same    yes\n",
      "2  rainy  cold     high  strong  warm   change     no\n",
      "3  sunny  warm     high  strong  cool   change    yes\n",
      "['yes', 'yes', 'no', 'yes']\n",
      "1  Hypothesis : ['sunny', 'warm', 'normal', 'strong', 'warm', 'same', 'yes']\n",
      "2  Hypothesis : ['sunny', 'warm', '?', 'strong', 'warm', 'same', 'yes']\n",
      "3  Hypothesis : ['sunny', 'warm', '?', 'strong', 'warm', 'same', 'yes']\n",
      "4  Hypothesis : ['sunny', 'warm', '?', 'strong', '?', '?', 'yes']\n",
      "Final Hypothesis ['sunny', 'warm', '?', 'strong', '?', '?', 'yes']\n"
     ]
    }
   ],
   "source": [
    "import pandas as pd\n",
    "attributes = ['Sky',\"AirTemp\",\"Humidity\",\"Wind\",\"Water\",\"Forecast\",\"EnjoySport\"]\n",
    "num_attributes = len(attributes)\n",
    "data = pd.read_csv(\"weather.csv\");\n",
    "print(data)\n",
    "target = [\"yes\",\"yes\",\"no\",\"yes\"]\n",
    "print(target)\n",
    "hypothesis = ['0']*num_attributes\n",
    "\n",
    "for i in range(len(target)):\n",
    "    if (target[i]=='yes'):\n",
    "        for j in range(num_attributes):\n",
    "            if hypothesis[j]=='0':\n",
    "                hypothesis[j]=data.iloc[i,j]\n",
    "            if hypothesis[j]!=data.iloc[i,j]:\n",
    "                hypothesis[j]='?'\n",
    "    print(i+1,\" Hypothesis :\",hypothesis)\n",
    "\n",
    "print(\"Final Hypothesis\",hypothesis)"
   ]
  },
  {
   "cell_type": "code",
   "execution_count": null,
   "id": "6b9f9e9c",
   "metadata": {},
   "outputs": [],
   "source": []
  }
 ],
 "metadata": {
  "kernelspec": {
   "display_name": "Python 3 (ipykernel)",
   "language": "python",
   "name": "python3"
  },
  "language_info": {
   "codemirror_mode": {
    "name": "ipython",
    "version": 3
   },
   "file_extension": ".py",
   "mimetype": "text/x-python",
   "name": "python",
   "nbconvert_exporter": "python",
   "pygments_lexer": "ipython3",
   "version": "3.9.7"
  }
 },
 "nbformat": 4,
 "nbformat_minor": 5
}
